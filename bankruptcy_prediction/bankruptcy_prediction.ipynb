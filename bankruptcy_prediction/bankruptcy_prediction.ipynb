{
 "cells": [
  {
   "cell_type": "markdown",
   "metadata": {},
   "source": [
    "   # Bankruptcy Prediction - Decision Tree and Random Forests\n",
    "   Weiru Kuo\n",
    "   * Introduction\n",
    "   * Importing Libraries and Data\n",
    "   * Exploratory Data Analysis and Data Preprocessing\n",
    "   * Modeling\n",
    "   * Conclusions"
   ]
  },
  {
   "cell_type": "markdown",
   "metadata": {},
   "source": [
    "# Introduction"
   ]
  },
  {
   "cell_type": "markdown",
   "metadata": {},
   "source": [
    "In this analysis we build machine learning models using key financial ratios to predict whether a company goes bankrupt or not. Also we examine whether random forests algorithm performs better than decision tree.\n",
    "\n",
    "The data file can be downloaded from Kaggle: https://www.kaggle.com/datasets/fedesoriano/company-bankruptcy-prediction?resource=download\n",
    "\n",
    "The data were from 1999 to 2009, originally collected from the Taiwan Economic Journal. Company bankruptcy was defined based on the regulations of the Taiwan Stock Exchange.\n",
    "\n",
    "Columns are as below.\n",
    "\n",
    "* Y - Bankrupt?: Class label\n",
    "* X1 - ROA(C) before interest and depreciation before interest: Return On Total Assets(C)\n",
    "* X2 - ROA(A) before interest and % after tax: Return On Total Assets(A)\n",
    "* X3 - ROA(B) before interest and depreciation after tax: Return On Total Assets(B)\n",
    "* X4 - Operating Gross Margin: Gross Profit/Net Sales\n",
    "* X5 - Realized Sales Gross Margin: Realized Gross Profit/Net Sales\n",
    "* X6 - Operating Profit Rate: Operating Income/Net Sales\n",
    "* X7 - Pre-tax net Interest Rate: Pre-Tax Income/Net Sales\n",
    "* X8 - After-tax net Interest Rate: Net Income/Net Sales\n",
    "* X9 - Non-industry income and expenditure/revenue: Net Non-operating Income Ratio\n",
    "* X10 - Continuous interest rate (after tax): Net Income-Exclude Disposal Gain or Loss/Net Sales\n",
    "* X11 - Operating Expense Rate: Operating Expenses/Net Sales\n",
    "* X12 - Research and development expense rate: (Research and Development Expenses)/Net Sales\n",
    "* X13 - Cash flow rate: Cash Flow from Operating/Current Liabilities\n",
    "* X14 - Interest-bearing debt interest rate: Interest-bearing Debt/Equity\n",
    "* X15 - Tax rate (A): Effective Tax Rate\n",
    "* X16 - Net Value Per Share (B): Book Value Per Share(B)\n",
    "* X17 - Net Value Per Share (A): Book Value Per Share(A)\n",
    "* X18 - Net Value Per Share (C): Book Value Per Share(C)\n",
    "* X19 - Persistent EPS in the Last Four Seasons: EPS-Net Income\n",
    "* X20 - Cash Flow Per Share\n",
    "* X21 - Revenue Per Share (Yuan ¥): Sales Per Share\n",
    "* X22 - Operating Profit Per Share (Yuan ¥): Operating Income Per Share\n",
    "* X23 - Per Share Net profit before tax (Yuan ¥): Pretax Income Per Share\n",
    "* X24 - Realized Sales Gross Profit Growth Rate\n",
    "* X25 - Operating Profit Growth Rate: Operating Income Growth\n",
    "* X26 - After-tax Net Profit Growth Rate: Net Income Growth\n",
    "* X27 - Regular Net Profit Growth Rate: Continuing Operating Income after Tax Growth\n",
    "* X28 - Continuous Net Profit Growth Rate: Net Income-Excluding Disposal Gain or Loss Growth\n",
    "* X29 - Total Asset Growth Rate: Total Asset Growth\n",
    "* X30 - Net Value Growth Rate: Total Equity Growth\n",
    "* X31 - Total Asset Return Growth Rate Ratio: Return on Total Asset Growth\n",
    "* X32 - Cash Reinvestment %: Cash Reinvestment Ratio\n",
    "* X33 - Current Ratio\n",
    "* X34 - Quick Ratio: Acid Test\n",
    "* X35 - Interest Expense Ratio: Interest Expenses/Total Revenue\n",
    "* X36 - Total debt/Total net worth: Total Liability/Equity Ratio\n",
    "* X37 - Debt ratio %: Liability/Total Assets\n",
    "* X38 - Net worth/Assets: Equity/Total Assets\n",
    "* X39 - Long-term fund suitability ratio (A): (Long-term Liability+Equity)/Fixed Assets\n",
    "* X40 - Borrowing dependency: Cost of Interest-bearing Debt\n",
    "* X41 - Contingent liabilities/Net worth: Contingent Liability/Equity\n",
    "* X42 - Operating profit/Paid-in capital: Operating Income/Capital\n",
    "* X43 - Net profit before tax/Paid-in capital: Pretax Income/Capital\n",
    "* X44 - Inventory and accounts receivable/Net value: (Inventory+Accounts Receivables)/Equity\n",
    "* X45 - Total Asset Turnover\n",
    "* X46 - Accounts Receivable Turnover\n",
    "* X47 - Average Collection Days: Days Receivable Outstanding\n",
    "* X48 - Inventory Turnover Rate (times)\n",
    "* X49 - Fixed Assets Turnover Frequency\n",
    "* X50 - Net Worth Turnover Rate (times): Equity Turnover\n",
    "* X51 - Revenue per person: Sales Per Employee\n",
    "* X52 - Operating profit per person: Operation Income Per Employee\n",
    "* X53 - Allocation rate per person: Fixed Assets Per Employee\n",
    "* X54 - Working Capital to Total Assets\n",
    "* X55 - Quick Assets/Total Assets\n",
    "* X56 - Current Assets/Total Assets\n",
    "* X57 - Cash/Total Assets\n",
    "* X58 - Quick Assets/Current Liability\n",
    "* X59 - Cash/Current Liability\n",
    "* X60 - Current Liability to Assets\n",
    "* X61 - Operating Funds to Liability\n",
    "* X62 - Inventory/Working Capital\n",
    "* X63 - Inventory/Current Liability\n",
    "* X64 - Current Liabilities/Liability\n",
    "* X65 - Working Capital/Equity\n",
    "* X66 - Current Liabilities/Equity\n",
    "* X67 - Long-term Liability to Current Assets\n",
    "* X68 - Retained Earnings to Total Assets\n",
    "* X69 - Total income/Total expense\n",
    "* X70 - Total expense/Assets\n",
    "* X71 - Current Asset Turnover Rate: Current Assets to Sales\n",
    "* X72 - Quick Asset Turnover Rate: Quick Assets to Sales\n",
    "* X73 - Working capitcal Turnover Rate: Working Capital to Sales\n",
    "* X74 - Cash Turnover Rate: Cash to Sales\n",
    "* X75 - Cash Flow to Sales\n",
    "* X76 - Fixed Assets to Assets\n",
    "* X77 - Current Liability to Liability\n",
    "* X78 - Current Liability to Equity\n",
    "* X79 - Equity to Long-term Liability\n",
    "* X80 - Cash Flow to Total Assets\n",
    "* X81 - Cash Flow to Liability\n",
    "* X82 - CFO to Assets\n",
    "* X83 - Cash Flow to Equity\n",
    "* X84 - Current Liability to Current Assets\n",
    "* X85 - Liability-Assets Flag: 1 if Total Liability exceeds Total Assets, 0 otherwise\n",
    "* X86 - Net Income to Total Assets\n",
    "* X87 - Total assets to GNP price\n",
    "* X88 - No-credit Interval\n",
    "* X89 - Gross Profit to Sales\n",
    "* X90 - Net Income to Stockholder's Equity\n",
    "* X91 - Liability to Equity\n",
    "* X92 - Degree of Financial Leverage (DFL)\n",
    "* X93 - Interest Coverage Ratio (Interest expense to EBIT)\n",
    "* X94 - Net Income Flag: 1 if Net Income is Negative for the last two years, 0 otherwise\n",
    "* X95 - Equity to Liability"
   ]
  },
  {
   "cell_type": "markdown",
   "metadata": {},
   "source": [
    "# Importing Libraries and Data"
   ]
  },
  {
   "cell_type": "markdown",
   "metadata": {},
   "source": [
    "## Import libraries"
   ]
  },
  {
   "cell_type": "code",
   "execution_count": 1,
   "metadata": {},
   "outputs": [],
   "source": [
    "import pandas as pd\n",
    "import numpy as np\n",
    "import matplotlib.pyplot as plt\n",
    "import seaborn as sns\n",
    "%matplotlib inline\n",
    "\n",
    "from sklearn.model_selection import train_test_split\n",
    "#Decision tree model\n",
    "from sklearn.tree import DecisionTreeClassifier\n",
    "#Random forest model\n",
    "from sklearn.ensemble import RandomForestClassifier\n",
    "from sklearn.metrics import classification_report,confusion_matrix\n",
    "\n",
    "import warnings\n",
    "warnings.filterwarnings('ignore')"
   ]
  },
  {
   "cell_type": "markdown",
   "metadata": {},
   "source": [
    "## Get the Data"
   ]
  },
  {
   "cell_type": "code",
   "execution_count": 2,
   "metadata": {},
   "outputs": [],
   "source": [
    "data = pd.read_csv('bankruptcy_data.csv')"
   ]
  },
  {
   "cell_type": "code",
   "execution_count": 3,
   "metadata": {},
   "outputs": [
    {
     "data": {
      "text/html": [
       "<div>\n",
       "<style scoped>\n",
       "    .dataframe tbody tr th:only-of-type {\n",
       "        vertical-align: middle;\n",
       "    }\n",
       "\n",
       "    .dataframe tbody tr th {\n",
       "        vertical-align: top;\n",
       "    }\n",
       "\n",
       "    .dataframe thead th {\n",
       "        text-align: right;\n",
       "    }\n",
       "</style>\n",
       "<table border=\"1\" class=\"dataframe\">\n",
       "  <thead>\n",
       "    <tr style=\"text-align: right;\">\n",
       "      <th></th>\n",
       "      <th>Bankrupt?</th>\n",
       "      <th>ROA(C) before interest and depreciation before interest</th>\n",
       "      <th>ROA(A) before interest and % after tax</th>\n",
       "      <th>ROA(B) before interest and depreciation after tax</th>\n",
       "      <th>Operating Gross Margin</th>\n",
       "      <th>Realized Sales Gross Margin</th>\n",
       "      <th>Operating Profit Rate</th>\n",
       "      <th>Pre-tax net Interest Rate</th>\n",
       "      <th>After-tax net Interest Rate</th>\n",
       "      <th>Non-industry income and expenditure/revenue</th>\n",
       "      <th>...</th>\n",
       "      <th>Net Income to Total Assets</th>\n",
       "      <th>Total assets to GNP price</th>\n",
       "      <th>No-credit Interval</th>\n",
       "      <th>Gross Profit to Sales</th>\n",
       "      <th>Net Income to Stockholder's Equity</th>\n",
       "      <th>Liability to Equity</th>\n",
       "      <th>Degree of Financial Leverage (DFL)</th>\n",
       "      <th>Interest Coverage Ratio (Interest expense to EBIT)</th>\n",
       "      <th>Net Income Flag</th>\n",
       "      <th>Equity to Liability</th>\n",
       "    </tr>\n",
       "  </thead>\n",
       "  <tbody>\n",
       "    <tr>\n",
       "      <th>0</th>\n",
       "      <td>1</td>\n",
       "      <td>0.370594</td>\n",
       "      <td>0.424389</td>\n",
       "      <td>0.405750</td>\n",
       "      <td>0.601457</td>\n",
       "      <td>0.601457</td>\n",
       "      <td>0.998969</td>\n",
       "      <td>0.796887</td>\n",
       "      <td>0.808809</td>\n",
       "      <td>0.302646</td>\n",
       "      <td>...</td>\n",
       "      <td>0.716845</td>\n",
       "      <td>0.009219</td>\n",
       "      <td>0.622879</td>\n",
       "      <td>0.601453</td>\n",
       "      <td>0.827890</td>\n",
       "      <td>0.290202</td>\n",
       "      <td>0.026601</td>\n",
       "      <td>0.564050</td>\n",
       "      <td>1</td>\n",
       "      <td>0.016469</td>\n",
       "    </tr>\n",
       "    <tr>\n",
       "      <th>1</th>\n",
       "      <td>1</td>\n",
       "      <td>0.464291</td>\n",
       "      <td>0.538214</td>\n",
       "      <td>0.516730</td>\n",
       "      <td>0.610235</td>\n",
       "      <td>0.610235</td>\n",
       "      <td>0.998946</td>\n",
       "      <td>0.797380</td>\n",
       "      <td>0.809301</td>\n",
       "      <td>0.303556</td>\n",
       "      <td>...</td>\n",
       "      <td>0.795297</td>\n",
       "      <td>0.008323</td>\n",
       "      <td>0.623652</td>\n",
       "      <td>0.610237</td>\n",
       "      <td>0.839969</td>\n",
       "      <td>0.283846</td>\n",
       "      <td>0.264577</td>\n",
       "      <td>0.570175</td>\n",
       "      <td>1</td>\n",
       "      <td>0.020794</td>\n",
       "    </tr>\n",
       "    <tr>\n",
       "      <th>2</th>\n",
       "      <td>1</td>\n",
       "      <td>0.426071</td>\n",
       "      <td>0.499019</td>\n",
       "      <td>0.472295</td>\n",
       "      <td>0.601450</td>\n",
       "      <td>0.601364</td>\n",
       "      <td>0.998857</td>\n",
       "      <td>0.796403</td>\n",
       "      <td>0.808388</td>\n",
       "      <td>0.302035</td>\n",
       "      <td>...</td>\n",
       "      <td>0.774670</td>\n",
       "      <td>0.040003</td>\n",
       "      <td>0.623841</td>\n",
       "      <td>0.601449</td>\n",
       "      <td>0.836774</td>\n",
       "      <td>0.290189</td>\n",
       "      <td>0.026555</td>\n",
       "      <td>0.563706</td>\n",
       "      <td>1</td>\n",
       "      <td>0.016474</td>\n",
       "    </tr>\n",
       "    <tr>\n",
       "      <th>3</th>\n",
       "      <td>1</td>\n",
       "      <td>0.399844</td>\n",
       "      <td>0.451265</td>\n",
       "      <td>0.457733</td>\n",
       "      <td>0.583541</td>\n",
       "      <td>0.583541</td>\n",
       "      <td>0.998700</td>\n",
       "      <td>0.796967</td>\n",
       "      <td>0.808966</td>\n",
       "      <td>0.303350</td>\n",
       "      <td>...</td>\n",
       "      <td>0.739555</td>\n",
       "      <td>0.003252</td>\n",
       "      <td>0.622929</td>\n",
       "      <td>0.583538</td>\n",
       "      <td>0.834697</td>\n",
       "      <td>0.281721</td>\n",
       "      <td>0.026697</td>\n",
       "      <td>0.564663</td>\n",
       "      <td>1</td>\n",
       "      <td>0.023982</td>\n",
       "    </tr>\n",
       "    <tr>\n",
       "      <th>4</th>\n",
       "      <td>1</td>\n",
       "      <td>0.465022</td>\n",
       "      <td>0.538432</td>\n",
       "      <td>0.522298</td>\n",
       "      <td>0.598783</td>\n",
       "      <td>0.598783</td>\n",
       "      <td>0.998973</td>\n",
       "      <td>0.797366</td>\n",
       "      <td>0.809304</td>\n",
       "      <td>0.303475</td>\n",
       "      <td>...</td>\n",
       "      <td>0.795016</td>\n",
       "      <td>0.003878</td>\n",
       "      <td>0.623521</td>\n",
       "      <td>0.598782</td>\n",
       "      <td>0.839973</td>\n",
       "      <td>0.278514</td>\n",
       "      <td>0.024752</td>\n",
       "      <td>0.575617</td>\n",
       "      <td>1</td>\n",
       "      <td>0.035490</td>\n",
       "    </tr>\n",
       "  </tbody>\n",
       "</table>\n",
       "<p>5 rows × 96 columns</p>\n",
       "</div>"
      ],
      "text/plain": [
       "   Bankrupt?   ROA(C) before interest and depreciation before interest  \\\n",
       "0          1                                           0.370594          \n",
       "1          1                                           0.464291          \n",
       "2          1                                           0.426071          \n",
       "3          1                                           0.399844          \n",
       "4          1                                           0.465022          \n",
       "\n",
       "    ROA(A) before interest and % after tax  \\\n",
       "0                                 0.424389   \n",
       "1                                 0.538214   \n",
       "2                                 0.499019   \n",
       "3                                 0.451265   \n",
       "4                                 0.538432   \n",
       "\n",
       "    ROA(B) before interest and depreciation after tax  \\\n",
       "0                                           0.405750    \n",
       "1                                           0.516730    \n",
       "2                                           0.472295    \n",
       "3                                           0.457733    \n",
       "4                                           0.522298    \n",
       "\n",
       "    Operating Gross Margin   Realized Sales Gross Margin  \\\n",
       "0                 0.601457                      0.601457   \n",
       "1                 0.610235                      0.610235   \n",
       "2                 0.601450                      0.601364   \n",
       "3                 0.583541                      0.583541   \n",
       "4                 0.598783                      0.598783   \n",
       "\n",
       "    Operating Profit Rate   Pre-tax net Interest Rate  \\\n",
       "0                0.998969                    0.796887   \n",
       "1                0.998946                    0.797380   \n",
       "2                0.998857                    0.796403   \n",
       "3                0.998700                    0.796967   \n",
       "4                0.998973                    0.797366   \n",
       "\n",
       "    After-tax net Interest Rate   Non-industry income and expenditure/revenue  \\\n",
       "0                      0.808809                                      0.302646   \n",
       "1                      0.809301                                      0.303556   \n",
       "2                      0.808388                                      0.302035   \n",
       "3                      0.808966                                      0.303350   \n",
       "4                      0.809304                                      0.303475   \n",
       "\n",
       "           ...            Net Income to Total Assets  \\\n",
       "0          ...                              0.716845   \n",
       "1          ...                              0.795297   \n",
       "2          ...                              0.774670   \n",
       "3          ...                              0.739555   \n",
       "4          ...                              0.795016   \n",
       "\n",
       "    Total assets to GNP price   No-credit Interval   Gross Profit to Sales  \\\n",
       "0                    0.009219             0.622879                0.601453   \n",
       "1                    0.008323             0.623652                0.610237   \n",
       "2                    0.040003             0.623841                0.601449   \n",
       "3                    0.003252             0.622929                0.583538   \n",
       "4                    0.003878             0.623521                0.598782   \n",
       "\n",
       "    Net Income to Stockholder's Equity   Liability to Equity  \\\n",
       "0                             0.827890              0.290202   \n",
       "1                             0.839969              0.283846   \n",
       "2                             0.836774              0.290189   \n",
       "3                             0.834697              0.281721   \n",
       "4                             0.839973              0.278514   \n",
       "\n",
       "    Degree of Financial Leverage (DFL)  \\\n",
       "0                             0.026601   \n",
       "1                             0.264577   \n",
       "2                             0.026555   \n",
       "3                             0.026697   \n",
       "4                             0.024752   \n",
       "\n",
       "    Interest Coverage Ratio (Interest expense to EBIT)   Net Income Flag  \\\n",
       "0                                           0.564050                   1   \n",
       "1                                           0.570175                   1   \n",
       "2                                           0.563706                   1   \n",
       "3                                           0.564663                   1   \n",
       "4                                           0.575617                   1   \n",
       "\n",
       "    Equity to Liability  \n",
       "0              0.016469  \n",
       "1              0.020794  \n",
       "2              0.016474  \n",
       "3              0.023982  \n",
       "4              0.035490  \n",
       "\n",
       "[5 rows x 96 columns]"
      ]
     },
     "execution_count": 3,
     "metadata": {},
     "output_type": "execute_result"
    }
   ],
   "source": [
    "data.head()"
   ]
  },
  {
   "cell_type": "markdown",
   "metadata": {},
   "source": [
    "The first column \"Bankrupt?\" will be the label that the model tries to predict. There are many, 95 total, features. To reduce noise and focus on some key ratios, we will select 9 key ratios that often used as early warning signs for predicting bankruptcy.\n",
    "\n",
    "To be specific, we will choose the columns below.\n",
    "* Y - Bankrupt?: Class label\n",
    "* X3 - ROA(B) before interest and depreciation after tax: Return On Total Assets(B)\n",
    "* X4 - Operating Gross Margin: Gross Profit/Net Sales\n",
    "* X33 - Current Ratio\n",
    "* X37 - Debt ratio %: Liability/Total Assets\n",
    "* X54 - Working Capital to Total Assets\n",
    "* X75 - Cash Flow to Sales\n",
    "* X81 - Cash Flow to Liability\n",
    "* X89 - Gross Profit to Sales\n",
    "* X91 - Liability to Equity"
   ]
  },
  {
   "cell_type": "code",
   "execution_count": 4,
   "metadata": {},
   "outputs": [],
   "source": [
    "data=data[['Bankrupt?',' ROA(B) before interest and depreciation after tax',' Operating Gross Margin',' Current Ratio',' Debt ratio %',' Working Capital to Total Assets',' Cash Flow to Sales',' Cash Flow to Liability',' Gross Profit to Sales',' Liability to Equity']]"
   ]
  },
  {
   "cell_type": "markdown",
   "metadata": {},
   "source": [
    "# Exploratory Data Analysis"
   ]
  },
  {
   "cell_type": "markdown",
   "metadata": {},
   "source": [
    "Checking no missing data"
   ]
  },
  {
   "cell_type": "code",
   "execution_count": 5,
   "metadata": {},
   "outputs": [
    {
     "data": {
      "text/plain": [
       "Bankrupt?                                             0\n",
       " ROA(B) before interest and depreciation after tax    0\n",
       " Operating Gross Margin                               0\n",
       " Current Ratio                                        0\n",
       " Debt ratio %                                         0\n",
       " Working Capital to Total Assets                      0\n",
       " Cash Flow to Sales                                   0\n",
       " Cash Flow to Liability                               0\n",
       " Gross Profit to Sales                                0\n",
       " Liability to Equity                                  0\n",
       "dtype: int64"
      ]
     },
     "execution_count": 5,
     "metadata": {},
     "output_type": "execute_result"
    }
   ],
   "source": [
    "data.isnull().sum()"
   ]
  },
  {
   "cell_type": "code",
   "execution_count": 6,
   "metadata": {},
   "outputs": [
    {
     "name": "stdout",
     "output_type": "stream",
     "text": [
      "<class 'pandas.core.frame.DataFrame'>\n",
      "RangeIndex: 6819 entries, 0 to 6818\n",
      "Data columns (total 10 columns):\n",
      "Bankrupt?                                             6819 non-null int64\n",
      " ROA(B) before interest and depreciation after tax    6819 non-null float64\n",
      " Operating Gross Margin                               6819 non-null float64\n",
      " Current Ratio                                        6819 non-null float64\n",
      " Debt ratio %                                         6819 non-null float64\n",
      " Working Capital to Total Assets                      6819 non-null float64\n",
      " Cash Flow to Sales                                   6819 non-null float64\n",
      " Cash Flow to Liability                               6819 non-null float64\n",
      " Gross Profit to Sales                                6819 non-null float64\n",
      " Liability to Equity                                  6819 non-null float64\n",
      "dtypes: float64(9), int64(1)\n",
      "memory usage: 532.8 KB\n"
     ]
    }
   ],
   "source": [
    "data.info()"
   ]
  },
  {
   "cell_type": "markdown",
   "metadata": {},
   "source": [
    "No categorical features. All numerical."
   ]
  },
  {
   "cell_type": "markdown",
   "metadata": {},
   "source": [
    "Checking if the label is balanced or not. From the count plot this is an imbalanced dataset. In binary classification task, if the class distribution is highly skewed, accuracy will become an unreliable measure of model performance. "
   ]
  },
  {
   "cell_type": "code",
   "execution_count": 7,
   "metadata": {},
   "outputs": [
    {
     "data": {
      "text/plain": [
       "<AxesSubplot:xlabel='Bankrupt?', ylabel='count'>"
      ]
     },
     "execution_count": 7,
     "metadata": {},
     "output_type": "execute_result"
    },
    {
     "data": {
      "image/png": "[encoded data removed]",
      "text/plain": [
       "<Figure size 432x288 with 1 Axes>"
      ]
     },
     "metadata": {
      "needs_background": "light"
     },
     "output_type": "display_data"
    }
   ],
   "source": [
    "sns.countplot(x='Bankrupt?',data=data,palette='Set1')"
   ]
  },
  {
   "cell_type": "markdown",
   "metadata": {},
   "source": [
    "There are many ways of balancing dataset. Here we simply reduce the number of the higher one. First we get the total count of the companies that went bankrupt, then randomly sample the same number from companies did not go bankrupt. Finally we combine both together to be the new dataset."
   ]
  },
  {
   "cell_type": "code",
   "execution_count": 8,
   "metadata": {},
   "outputs": [
    {
     "name": "stdout",
     "output_type": "stream",
     "text": [
      "220\n"
     ]
    }
   ],
   "source": [
    "print(len(data[data['Bankrupt?']==1]))"
   ]
  },
  {
   "cell_type": "code",
   "execution_count": 9,
   "metadata": {},
   "outputs": [],
   "source": [
    "df_not_bankrupt=data[data['Bankrupt?']==0].sample(220)"
   ]
  },
  {
   "cell_type": "code",
   "execution_count": 10,
   "metadata": {},
   "outputs": [],
   "source": [
    "data=data[data['Bankrupt?']==1].append(df_not_bankrupt)"
   ]
  },
  {
   "cell_type": "markdown",
   "metadata": {},
   "source": [
    "The dataframe now has all Bankrupt?=1 on the top and 0 at the bottom. So we mix them by sorting based on original index."
   ]
  },
  {
   "cell_type": "code",
   "execution_count": 11,
   "metadata": {},
   "outputs": [
    {
     "data": {
      "text/html": [
       "<div>\n",
       "<style scoped>\n",
       "    .dataframe tbody tr th:only-of-type {\n",
       "        vertical-align: middle;\n",
       "    }\n",
       "\n",
       "    .dataframe tbody tr th {\n",
       "        vertical-align: top;\n",
       "    }\n",
       "\n",
       "    .dataframe thead th {\n",
       "        text-align: right;\n",
       "    }\n",
       "</style>\n",
       "<table border=\"1\" class=\"dataframe\">\n",
       "  <thead>\n",
       "    <tr style=\"text-align: right;\">\n",
       "      <th></th>\n",
       "      <th>Bankrupt?</th>\n",
       "      <th>ROA(B) before interest and depreciation after tax</th>\n",
       "      <th>Operating Gross Margin</th>\n",
       "      <th>Current Ratio</th>\n",
       "      <th>Debt ratio %</th>\n",
       "      <th>Working Capital to Total Assets</th>\n",
       "      <th>Cash Flow to Sales</th>\n",
       "      <th>Cash Flow to Liability</th>\n",
       "      <th>Gross Profit to Sales</th>\n",
       "      <th>Liability to Equity</th>\n",
       "    </tr>\n",
       "  </thead>\n",
       "  <tbody>\n",
       "    <tr>\n",
       "      <th>0</th>\n",
       "      <td>1</td>\n",
       "      <td>0.405750</td>\n",
       "      <td>0.601457</td>\n",
       "      <td>0.002259</td>\n",
       "      <td>0.207576</td>\n",
       "      <td>0.672775</td>\n",
       "      <td>0.671568</td>\n",
       "      <td>0.458609</td>\n",
       "      <td>0.601453</td>\n",
       "      <td>0.290202</td>\n",
       "    </tr>\n",
       "    <tr>\n",
       "      <th>1</th>\n",
       "      <td>1</td>\n",
       "      <td>0.516730</td>\n",
       "      <td>0.610235</td>\n",
       "      <td>0.006016</td>\n",
       "      <td>0.171176</td>\n",
       "      <td>0.751111</td>\n",
       "      <td>0.671570</td>\n",
       "      <td>0.459001</td>\n",
       "      <td>0.610237</td>\n",
       "      <td>0.283846</td>\n",
       "    </tr>\n",
       "    <tr>\n",
       "      <th>2</th>\n",
       "      <td>1</td>\n",
       "      <td>0.472295</td>\n",
       "      <td>0.601450</td>\n",
       "      <td>0.011543</td>\n",
       "      <td>0.207516</td>\n",
       "      <td>0.829502</td>\n",
       "      <td>0.671571</td>\n",
       "      <td>0.459254</td>\n",
       "      <td>0.601449</td>\n",
       "      <td>0.290189</td>\n",
       "    </tr>\n",
       "    <tr>\n",
       "      <th>3</th>\n",
       "      <td>1</td>\n",
       "      <td>0.457733</td>\n",
       "      <td>0.583541</td>\n",
       "      <td>0.004194</td>\n",
       "      <td>0.151465</td>\n",
       "      <td>0.725754</td>\n",
       "      <td>0.671519</td>\n",
       "      <td>0.448518</td>\n",
       "      <td>0.583538</td>\n",
       "      <td>0.281721</td>\n",
       "    </tr>\n",
       "    <tr>\n",
       "      <th>4</th>\n",
       "      <td>1</td>\n",
       "      <td>0.522298</td>\n",
       "      <td>0.598783</td>\n",
       "      <td>0.006022</td>\n",
       "      <td>0.106509</td>\n",
       "      <td>0.751822</td>\n",
       "      <td>0.671563</td>\n",
       "      <td>0.454411</td>\n",
       "      <td>0.598782</td>\n",
       "      <td>0.278514</td>\n",
       "    </tr>\n",
       "    <tr>\n",
       "      <th>5</th>\n",
       "      <td>1</td>\n",
       "      <td>0.419134</td>\n",
       "      <td>0.590171</td>\n",
       "      <td>0.002740</td>\n",
       "      <td>0.180427</td>\n",
       "      <td>0.686729</td>\n",
       "      <td>0.671568</td>\n",
       "      <td>0.458499</td>\n",
       "      <td>0.590172</td>\n",
       "      <td>0.285087</td>\n",
       "    </tr>\n",
       "    <tr>\n",
       "      <th>18</th>\n",
       "      <td>0</td>\n",
       "      <td>0.558649</td>\n",
       "      <td>0.598344</td>\n",
       "      <td>0.007220</td>\n",
       "      <td>0.141337</td>\n",
       "      <td>0.766580</td>\n",
       "      <td>0.671573</td>\n",
       "      <td>0.459403</td>\n",
       "      <td>0.598345</td>\n",
       "      <td>0.280839</td>\n",
       "    </tr>\n",
       "    <tr>\n",
       "      <th>29</th>\n",
       "      <td>1</td>\n",
       "      <td>0.463783</td>\n",
       "      <td>0.599115</td>\n",
       "      <td>0.004292</td>\n",
       "      <td>0.219609</td>\n",
       "      <td>0.703730</td>\n",
       "      <td>0.671567</td>\n",
       "      <td>0.457681</td>\n",
       "      <td>0.599110</td>\n",
       "      <td>0.293599</td>\n",
       "    </tr>\n",
       "    <tr>\n",
       "      <th>30</th>\n",
       "      <td>1</td>\n",
       "      <td>0.514428</td>\n",
       "      <td>0.599987</td>\n",
       "      <td>0.002124</td>\n",
       "      <td>0.228890</td>\n",
       "      <td>0.673325</td>\n",
       "      <td>0.671577</td>\n",
       "      <td>0.459675</td>\n",
       "      <td>0.599984</td>\n",
       "      <td>0.297038</td>\n",
       "    </tr>\n",
       "    <tr>\n",
       "      <th>42</th>\n",
       "      <td>0</td>\n",
       "      <td>0.559077</td>\n",
       "      <td>0.618177</td>\n",
       "      <td>0.011685</td>\n",
       "      <td>0.086646</td>\n",
       "      <td>0.801108</td>\n",
       "      <td>0.671586</td>\n",
       "      <td>0.464122</td>\n",
       "      <td>0.618178</td>\n",
       "      <td>0.277532</td>\n",
       "    </tr>\n",
       "    <tr>\n",
       "      <th>50</th>\n",
       "      <td>0</td>\n",
       "      <td>0.522512</td>\n",
       "      <td>0.619402</td>\n",
       "      <td>0.003948</td>\n",
       "      <td>0.154216</td>\n",
       "      <td>0.732740</td>\n",
       "      <td>0.671572</td>\n",
       "      <td>0.459217</td>\n",
       "      <td>0.619403</td>\n",
       "      <td>0.281982</td>\n",
       "    </tr>\n",
       "    <tr>\n",
       "      <th>54</th>\n",
       "      <td>1</td>\n",
       "      <td>0.505595</td>\n",
       "      <td>0.596946</td>\n",
       "      <td>0.003198</td>\n",
       "      <td>0.210358</td>\n",
       "      <td>0.715124</td>\n",
       "      <td>0.671572</td>\n",
       "      <td>0.459233</td>\n",
       "      <td>0.596946</td>\n",
       "      <td>0.290904</td>\n",
       "    </tr>\n",
       "    <tr>\n",
       "      <th>55</th>\n",
       "      <td>1</td>\n",
       "      <td>0.517051</td>\n",
       "      <td>0.597393</td>\n",
       "      <td>0.002891</td>\n",
       "      <td>0.235299</td>\n",
       "      <td>0.662360</td>\n",
       "      <td>0.671572</td>\n",
       "      <td>0.459301</td>\n",
       "      <td>0.597394</td>\n",
       "      <td>0.300005</td>\n",
       "    </tr>\n",
       "    <tr>\n",
       "      <th>56</th>\n",
       "      <td>1</td>\n",
       "      <td>0.054821</td>\n",
       "      <td>0.601861</td>\n",
       "      <td>0.004329</td>\n",
       "      <td>0.321371</td>\n",
       "      <td>0.692375</td>\n",
       "      <td>0.671591</td>\n",
       "      <td>0.464287</td>\n",
       "      <td>0.601857</td>\n",
       "      <td>0.182790</td>\n",
       "    </tr>\n",
       "    <tr>\n",
       "      <th>57</th>\n",
       "      <td>1</td>\n",
       "      <td>0.453450</td>\n",
       "      <td>0.595994</td>\n",
       "      <td>0.003328</td>\n",
       "      <td>0.221453</td>\n",
       "      <td>0.676280</td>\n",
       "      <td>0.671564</td>\n",
       "      <td>0.457258</td>\n",
       "      <td>0.595994</td>\n",
       "      <td>0.294222</td>\n",
       "    </tr>\n",
       "  </tbody>\n",
       "</table>\n",
       "</div>"
      ],
      "text/plain": [
       "    Bankrupt?   ROA(B) before interest and depreciation after tax  \\\n",
       "0           1                                           0.405750    \n",
       "1           1                                           0.516730    \n",
       "2           1                                           0.472295    \n",
       "3           1                                           0.457733    \n",
       "4           1                                           0.522298    \n",
       "5           1                                           0.419134    \n",
       "18          0                                           0.558649    \n",
       "29          1                                           0.463783    \n",
       "30          1                                           0.514428    \n",
       "42          0                                           0.559077    \n",
       "50          0                                           0.522512    \n",
       "54          1                                           0.505595    \n",
       "55          1                                           0.517051    \n",
       "56          1                                           0.054821    \n",
       "57          1                                           0.453450    \n",
       "\n",
       "     Operating Gross Margin   Current Ratio   Debt ratio %  \\\n",
       "0                  0.601457        0.002259       0.207576   \n",
       "1                  0.610235        0.006016       0.171176   \n",
       "2                  0.601450        0.011543       0.207516   \n",
       "3                  0.583541        0.004194       0.151465   \n",
       "4                  0.598783        0.006022       0.106509   \n",
       "5                  0.590171        0.002740       0.180427   \n",
       "18                 0.598344        0.007220       0.141337   \n",
       "29                 0.599115        0.004292       0.219609   \n",
       "30                 0.599987        0.002124       0.228890   \n",
       "42                 0.618177        0.011685       0.086646   \n",
       "50                 0.619402        0.003948       0.154216   \n",
       "54                 0.596946        0.003198       0.210358   \n",
       "55                 0.597393        0.002891       0.235299   \n",
       "56                 0.601861        0.004329       0.321371   \n",
       "57                 0.595994        0.003328       0.221453   \n",
       "\n",
       "     Working Capital to Total Assets   Cash Flow to Sales  \\\n",
       "0                           0.672775             0.671568   \n",
       "1                           0.751111             0.671570   \n",
       "2                           0.829502             0.671571   \n",
       "3                           0.725754             0.671519   \n",
       "4                           0.751822             0.671563   \n",
       "5                           0.686729             0.671568   \n",
       "18                          0.766580             0.671573   \n",
       "29                          0.703730             0.671567   \n",
       "30                          0.673325             0.671577   \n",
       "42                          0.801108             0.671586   \n",
       "50                          0.732740             0.671572   \n",
       "54                          0.715124             0.671572   \n",
       "55                          0.662360             0.671572   \n",
       "56                          0.692375             0.671591   \n",
       "57                          0.676280             0.671564   \n",
       "\n",
       "     Cash Flow to Liability   Gross Profit to Sales   Liability to Equity  \n",
       "0                  0.458609                0.601453              0.290202  \n",
       "1                  0.459001                0.610237              0.283846  \n",
       "2                  0.459254                0.601449              0.290189  \n",
       "3                  0.448518                0.583538              0.281721  \n",
       "4                  0.454411                0.598782              0.278514  \n",
       "5                  0.458499                0.590172              0.285087  \n",
       "18                 0.459403                0.598345              0.280839  \n",
       "29                 0.457681                0.599110              0.293599  \n",
       "30                 0.459675                0.599984              0.297038  \n",
       "42                 0.464122                0.618178              0.277532  \n",
       "50                 0.459217                0.619403              0.281982  \n",
       "54                 0.459233                0.596946              0.290904  \n",
       "55                 0.459301                0.597394              0.300005  \n",
       "56                 0.464287                0.601857              0.182790  \n",
       "57                 0.457258                0.595994              0.294222  "
      ]
     },
     "execution_count": 11,
     "metadata": {},
     "output_type": "execute_result"
    }
   ],
   "source": [
    "data.sort_index().head(15)"
   ]
  },
  {
   "cell_type": "code",
   "execution_count": 12,
   "metadata": {},
   "outputs": [],
   "source": [
    "data=data.sort_index()"
   ]
  },
  {
   "cell_type": "code",
   "execution_count": 13,
   "metadata": {},
   "outputs": [
    {
     "data": {
      "text/html": [
       "<div>\n",
       "<style scoped>\n",
       "    .dataframe tbody tr th:only-of-type {\n",
       "        vertical-align: middle;\n",
       "    }\n",
       "\n",
       "    .dataframe tbody tr th {\n",
       "        vertical-align: top;\n",
       "    }\n",
       "\n",
       "    .dataframe thead th {\n",
       "        text-align: right;\n",
       "    }\n",
       "</style>\n",
       "<table border=\"1\" class=\"dataframe\">\n",
       "  <thead>\n",
       "    <tr style=\"text-align: right;\">\n",
       "      <th></th>\n",
       "      <th>Bankrupt?</th>\n",
       "      <th>ROA(B) before interest and depreciation after tax</th>\n",
       "      <th>Operating Gross Margin</th>\n",
       "      <th>Current Ratio</th>\n",
       "      <th>Debt ratio %</th>\n",
       "      <th>Working Capital to Total Assets</th>\n",
       "      <th>Cash Flow to Sales</th>\n",
       "      <th>Cash Flow to Liability</th>\n",
       "      <th>Gross Profit to Sales</th>\n",
       "      <th>Liability to Equity</th>\n",
       "    </tr>\n",
       "  </thead>\n",
       "  <tbody>\n",
       "    <tr>\n",
       "      <th>count</th>\n",
       "      <td>440.000000</td>\n",
       "      <td>440.000000</td>\n",
       "      <td>440.000000</td>\n",
       "      <td>440.000000</td>\n",
       "      <td>440.000000</td>\n",
       "      <td>440.000000</td>\n",
       "      <td>440.000000</td>\n",
       "      <td>440.000000</td>\n",
       "      <td>440.000000</td>\n",
       "      <td>440.000000</td>\n",
       "    </tr>\n",
       "    <tr>\n",
       "      <th>mean</th>\n",
       "      <td>0.500000</td>\n",
       "      <td>0.508732</td>\n",
       "      <td>0.603169</td>\n",
       "      <td>0.010543</td>\n",
       "      <td>0.149342</td>\n",
       "      <td>0.783290</td>\n",
       "      <td>0.671569</td>\n",
       "      <td>0.459308</td>\n",
       "      <td>0.603167</td>\n",
       "      <td>0.286764</td>\n",
       "    </tr>\n",
       "    <tr>\n",
       "      <th>std</th>\n",
       "      <td>0.500569</td>\n",
       "      <td>0.087735</td>\n",
       "      <td>0.013799</td>\n",
       "      <td>0.009925</td>\n",
       "      <td>0.065470</td>\n",
       "      <td>0.066157</td>\n",
       "      <td>0.000072</td>\n",
       "      <td>0.029784</td>\n",
       "      <td>0.013799</td>\n",
       "      <td>0.048958</td>\n",
       "    </tr>\n",
       "    <tr>\n",
       "      <th>min</th>\n",
       "      <td>0.000000</td>\n",
       "      <td>0.033514</td>\n",
       "      <td>0.532906</td>\n",
       "      <td>0.000355</td>\n",
       "      <td>0.001088</td>\n",
       "      <td>0.494210</td>\n",
       "      <td>0.670866</td>\n",
       "      <td>0.073969</td>\n",
       "      <td>0.532907</td>\n",
       "      <td>0.000000</td>\n",
       "    </tr>\n",
       "    <tr>\n",
       "      <th>25%</th>\n",
       "      <td>0.000000</td>\n",
       "      <td>0.480178</td>\n",
       "      <td>0.596787</td>\n",
       "      <td>0.005214</td>\n",
       "      <td>0.103682</td>\n",
       "      <td>0.740300</td>\n",
       "      <td>0.671563</td>\n",
       "      <td>0.457390</td>\n",
       "      <td>0.596783</td>\n",
       "      <td>0.278271</td>\n",
       "    </tr>\n",
       "    <tr>\n",
       "      <th>50%</th>\n",
       "      <td>0.500000</td>\n",
       "      <td>0.523877</td>\n",
       "      <td>0.601655</td>\n",
       "      <td>0.007908</td>\n",
       "      <td>0.151253</td>\n",
       "      <td>0.782821</td>\n",
       "      <td>0.671571</td>\n",
       "      <td>0.459174</td>\n",
       "      <td>0.601652</td>\n",
       "      <td>0.281335</td>\n",
       "    </tr>\n",
       "    <tr>\n",
       "      <th>75%</th>\n",
       "      <td>1.000000</td>\n",
       "      <td>0.556494</td>\n",
       "      <td>0.609352</td>\n",
       "      <td>0.012489</td>\n",
       "      <td>0.194214</td>\n",
       "      <td>0.828499</td>\n",
       "      <td>0.671580</td>\n",
       "      <td>0.461378</td>\n",
       "      <td>0.609349</td>\n",
       "      <td>0.286924</td>\n",
       "    </tr>\n",
       "    <tr>\n",
       "      <th>max</th>\n",
       "      <td>1.000000</td>\n",
       "      <td>0.676107</td>\n",
       "      <td>0.665151</td>\n",
       "      <td>0.107802</td>\n",
       "      <td>0.525410</td>\n",
       "      <td>0.965272</td>\n",
       "      <td>0.672328</td>\n",
       "      <td>0.653087</td>\n",
       "      <td>0.665149</td>\n",
       "      <td>1.000000</td>\n",
       "    </tr>\n",
       "  </tbody>\n",
       "</table>\n",
       "</div>"
      ],
      "text/plain": [
       "        Bankrupt?   ROA(B) before interest and depreciation after tax  \\\n",
       "count  440.000000                                         440.000000    \n",
       "mean     0.500000                                           0.508732    \n",
       "std      0.500569                                           0.087735    \n",
       "min      0.000000                                           0.033514    \n",
       "25%      0.000000                                           0.480178    \n",
       "50%      0.500000                                           0.523877    \n",
       "75%      1.000000                                           0.556494    \n",
       "max      1.000000                                           0.676107    \n",
       "\n",
       "        Operating Gross Margin   Current Ratio   Debt ratio %  \\\n",
       "count               440.000000      440.000000     440.000000   \n",
       "mean                  0.603169        0.010543       0.149342   \n",
       "std                   0.013799        0.009925       0.065470   \n",
       "min                   0.532906        0.000355       0.001088   \n",
       "25%                   0.596787        0.005214       0.103682   \n",
       "50%                   0.601655        0.007908       0.151253   \n",
       "75%                   0.609352        0.012489       0.194214   \n",
       "max                   0.665151        0.107802       0.525410   \n",
       "\n",
       "        Working Capital to Total Assets   Cash Flow to Sales  \\\n",
       "count                        440.000000           440.000000   \n",
       "mean                           0.783290             0.671569   \n",
       "std                            0.066157             0.000072   \n",
       "min                            0.494210             0.670866   \n",
       "25%                            0.740300             0.671563   \n",
       "50%                            0.782821             0.671571   \n",
       "75%                            0.828499             0.671580   \n",
       "max                            0.965272             0.672328   \n",
       "\n",
       "        Cash Flow to Liability   Gross Profit to Sales   Liability to Equity  \n",
       "count               440.000000              440.000000            440.000000  \n",
       "mean                  0.459308                0.603167              0.286764  \n",
       "std                   0.029784                0.013799              0.048958  \n",
       "min                   0.073969                0.532907              0.000000  \n",
       "25%                   0.457390                0.596783              0.278271  \n",
       "50%                   0.459174                0.601652              0.281335  \n",
       "75%                   0.461378                0.609349              0.286924  \n",
       "max                   0.653087                0.665149              1.000000  "
      ]
     },
     "execution_count": 13,
     "metadata": {},
     "output_type": "execute_result"
    }
   ],
   "source": [
    "data.describe()"
   ]
  },
  {
   "cell_type": "markdown",
   "metadata": {},
   "source": [
    "From the statistics we can see the columns and the final rows of data we will be analysing are all between 0 and 1. Note that standard deviation of 'Cash Flow to Sales' is very low, which is reflected on how close the minimum and maximum numbers are. "
   ]
  },
  {
   "cell_type": "code",
   "execution_count": 14,
   "metadata": {},
   "outputs": [
    {
     "data": {
      "text/plain": [
       "Text(0.5, 0, 'ROA(B)')"
      ]
     },
     "execution_count": 14,
     "metadata": {},
     "output_type": "execute_result"
    },
    {
     "data": {
      "image/png": "[encoded data removed]",
      "text/plain": [
       "<Figure size 720x432 with 1 Axes>"
      ]
     },
     "metadata": {
      "needs_background": "light"
     },
     "output_type": "display_data"
    }
   ],
   "source": [
    "plt.figure(figsize=(10,6))\n",
    "data[data['Bankrupt?']==1][' ROA(B) before interest and depreciation after tax'].hist(alpha=0.5,color='blue',bins=30,label='Bankrupt?=1')\n",
    "data[data['Bankrupt?']==0][' ROA(B) before interest and depreciation after tax'].hist(alpha=0.5,color='red',bins=30,label='Bankrupt?=0')\n",
    "\n",
    "plt.legend()\n",
    "plt.xlabel('ROA(B)')"
   ]
  },
  {
   "cell_type": "markdown",
   "metadata": {},
   "source": [
    "As expected that ROA of companies went bankrupt (Bankrupt?=1) are on the lower side. ROA should be a good feature to predict bankruptcy."
   ]
  },
  {
   "cell_type": "code",
   "execution_count": 15,
   "metadata": {},
   "outputs": [
    {
     "data": {
      "text/plain": [
       "<seaborn.axisgrid.JointGrid at 0x7f8654f0add8>"
      ]
     },
     "execution_count": 15,
     "metadata": {},
     "output_type": "execute_result"
    },
    {
     "data": {
      "text/plain": [
       "<Figure size 792x504 with 0 Axes>"
      ]
     },
     "metadata": {},
     "output_type": "display_data"
    },
    {
     "data": {
      "image/png": "[encoded data removed]",
      "text/plain": [
       "<Figure size 432x432 with 3 Axes>"
      ]
     },
     "metadata": {
      "needs_background": "light"
     },
     "output_type": "display_data"
    }
   ],
   "source": [
    "plt.figure(figsize=(11,7))\n",
    "sns.jointplot(x=' ROA(B) before interest and depreciation after tax',y=' Operating Gross Margin',data=data,color='purple')"
   ]
  },
  {
   "cell_type": "markdown",
   "metadata": {},
   "source": [
    "ROA and Operating gross margin are both profitability ratio. It makes sense to see there is a positive correlation between them."
   ]
  },
  {
   "cell_type": "markdown",
   "metadata": {},
   "source": [
    "Here we can see the correlation between all features."
   ]
  },
  {
   "cell_type": "code",
   "execution_count": 16,
   "metadata": {},
   "outputs": [
    {
     "data": {
      "text/plain": [
       "<AxesSubplot:>"
      ]
     },
     "execution_count": 16,
     "metadata": {},
     "output_type": "execute_result"
    },
    {
     "data": {
      "image/png": "[encoded data removed]",
      "text/plain": [
       "<Figure size 432x288 with 2 Axes>"
      ]
     },
     "metadata": {
      "needs_background": "light"
     },
     "output_type": "display_data"
    }
   ],
   "source": [
    "sns.heatmap(data.drop('Bankrupt?',axis=1).corr(),annot=True)"
   ]
  },
  {
   "cell_type": "markdown",
   "metadata": {},
   "source": [
    "\"Cash Flow to Sales\" and \"Cash Flow to Liability\" have relative high positive correlation of 0.62. We can see from the figure below that both have close trend. It also slows that companies that went bankrupt had lower rate of both, with points scattered on the left bottom of the figure."
   ]
  },
  {
   "cell_type": "code",
   "execution_count": 17,
   "metadata": {},
   "outputs": [
    {
     "data": {
      "text/plain": [
       "(0.0, 1.0)"
      ]
     },
     "execution_count": 17,
     "metadata": {},
     "output_type": "execute_result"
    },
    {
     "data": {
      "text/plain": [
       "<Figure size 792x504 with 0 Axes>"
      ]
     },
     "metadata": {},
     "output_type": "display_data"
    },
    {
     "data": {
      "image/png": "[encoded data removed]",
      "text/plain": [
       "<Figure size 419x360 with 1 Axes>"
      ]
     },
     "metadata": {
      "needs_background": "light"
     },
     "output_type": "display_data"
    }
   ],
   "source": [
    "plt.figure(figsize=(11,7))\n",
    "sns.lmplot(x=\" Cash Flow to Sales\",y=\" Cash Flow to Liability\",hue=\"Bankrupt?\",data=data,palette='Set1')\n",
    "plt.xlim(0.6710,0.6720)\n",
    "plt.ylim(0,1)"
   ]
  },
  {
   "cell_type": "markdown",
   "metadata": {},
   "source": [
    "Through the box plot we visualize how the distribution of each feature looks like. \n",
    "* ROA: Left skewed. Mostly around 0.5\n",
    "* Operating Gross Margin: Narrow range around 0.6\n",
    "* Current Ratio: All between 0 and 0.2. Narrow range. Right skewed\n",
    "* Debt ratio %: Right skewed. Overall close to normal distribution. All below 0.55\n",
    "* Working Capital to Total Assets: Overall close to normal distribution. Most data between 0.6 to 1\n",
    "* Cash Flow to Sales: Highly centered on 0.67\n",
    "* Cash Flow to Liability: Long left tails. Most data fall between 0.4 and 0.5\n",
    "* Gross Profit to Sales: Very similar to Operating Gross Margin\n",
    "* Liability to Equity: Long tails. Spread between 0 and 1. Majority numbers are between 0.2 and 0.4"
   ]
  },
  {
   "cell_type": "code",
   "execution_count": 18,
   "metadata": {},
   "outputs": [
    {
     "data": {
      "text/plain": [
       "<AxesSubplot:>"
      ]
     },
     "execution_count": 18,
     "metadata": {},
     "output_type": "execute_result"
    },
    {
     "data": {
      "image/png": "[encoded data removed]",
      "text/plain": [
       "<Figure size 792x504 with 1 Axes>"
      ]
     },
     "metadata": {
      "needs_background": "light"
     },
     "output_type": "display_data"
    }
   ],
   "source": [
    "plt.figure(figsize=(11,7))\n",
    "sns.boxplot(data=data.drop('Bankrupt?',axis=1), orient=\"h\",palette='Set2')"
   ]
  },
  {
   "cell_type": "markdown",
   "metadata": {},
   "source": [
    "As expected the **working Capital to Total Assets** is close to a bell-shaped normal distribution."
   ]
  },
  {
   "cell_type": "code",
   "execution_count": 19,
   "metadata": {},
   "outputs": [
    {
     "data": {
      "text/plain": [
       "<AxesSubplot:xlabel=' Working Capital to Total Assets'>"
      ]
     },
     "execution_count": 19,
     "metadata": {},
     "output_type": "execute_result"
    },
    {
     "data": {
      "image/png": "[encoded data removed]",
      "text/plain": [
       "<Figure size 432x288 with 1 Axes>"
      ]
     },
     "metadata": {
      "needs_background": "light"
     },
     "output_type": "display_data"
    }
   ],
   "source": [
    "sns.distplot(data[' Working Capital to Total Assets'])"
   ]
  },
  {
   "cell_type": "markdown",
   "metadata": {},
   "source": [
    "Given that distribution of **Gross Profit to Sale** and **Operating Gross Margin** are very alike, we remove the former."
   ]
  },
  {
   "cell_type": "code",
   "execution_count": 20,
   "metadata": {},
   "outputs": [],
   "source": [
    "del data[' Gross Profit to Sales']"
   ]
  },
  {
   "cell_type": "markdown",
   "metadata": {},
   "source": [
    "As seen in statistics table and box plot, **Cash Flow to Sales** column has very close numbers throughout the data. Not a very informative feature so we remove it."
   ]
  },
  {
   "cell_type": "code",
   "execution_count": 21,
   "metadata": {},
   "outputs": [],
   "source": [
    "del data[' Cash Flow to Sales']"
   ]
  },
  {
   "cell_type": "markdown",
   "metadata": {},
   "source": [
    "# Modeling"
   ]
  },
  {
   "cell_type": "markdown",
   "metadata": {},
   "source": [
    "## Train Test Split\n",
    "Split up the data into a training set and a test set"
   ]
  },
  {
   "cell_type": "code",
   "execution_count": 22,
   "metadata": {},
   "outputs": [],
   "source": [
    "X=data.drop('Bankrupt?',axis=1)\n",
    "y=data['Bankrupt?']"
   ]
  },
  {
   "cell_type": "code",
   "execution_count": 23,
   "metadata": {},
   "outputs": [],
   "source": [
    "X_train, X_test, y_train, y_test = train_test_split(X, y, test_size=0.30, random_state=101)"
   ]
  },
  {
   "cell_type": "markdown",
   "metadata": {},
   "source": [
    "## Training a Decision Tree Model\n",
    "\n",
    "Start by training a single decision tree first\n",
    "\n",
    "**Create an instance of DecisionTreeClassifier() called dtree and fit it to the training data.**"
   ]
  },
  {
   "cell_type": "code",
   "execution_count": 24,
   "metadata": {},
   "outputs": [],
   "source": [
    "dtree= DecisionTreeClassifier()"
   ]
  },
  {
   "cell_type": "code",
   "execution_count": 25,
   "metadata": {},
   "outputs": [
    {
     "data": {
      "text/plain": [
       "DecisionTreeClassifier(class_weight=None, criterion='gini', max_depth=None,\n",
       "            max_features=None, max_leaf_nodes=None,\n",
       "            min_impurity_decrease=0.0, min_impurity_split=None,\n",
       "            min_samples_leaf=1, min_samples_split=2,\n",
       "            min_weight_fraction_leaf=0.0, presort=False, random_state=None,\n",
       "            splitter='best')"
      ]
     },
     "execution_count": 25,
     "metadata": {},
     "output_type": "execute_result"
    }
   ],
   "source": [
    "dtree.fit(X_train,y_train)"
   ]
  },
  {
   "cell_type": "markdown",
   "metadata": {},
   "source": [
    "## Prediction and Evaluation of Decision Tree"
   ]
  },
  {
   "cell_type": "code",
   "execution_count": 26,
   "metadata": {},
   "outputs": [],
   "source": [
    "predictions= dtree.predict(X_test)"
   ]
  },
  {
   "cell_type": "code",
   "execution_count": 27,
   "metadata": {},
   "outputs": [
    {
     "name": "stdout",
     "output_type": "stream",
     "text": [
      "              precision    recall  f1-score   support\n",
      "\n",
      "           0       0.85      0.74      0.79        68\n",
      "           1       0.75      0.86      0.80        64\n",
      "\n",
      "   micro avg       0.80      0.80      0.80       132\n",
      "   macro avg       0.80      0.80      0.80       132\n",
      "weighted avg       0.80      0.80      0.79       132\n",
      "\n"
     ]
    }
   ],
   "source": [
    "print(classification_report(y_test,predictions))"
   ]
  },
  {
   "cell_type": "markdown",
   "metadata": {},
   "source": [
    "**Precision, recall and f1 Score are good. All higher than 0.74. Average around 0.8.**"
   ]
  },
  {
   "cell_type": "code",
   "execution_count": 28,
   "metadata": {},
   "outputs": [
    {
     "name": "stdout",
     "output_type": "stream",
     "text": [
      "[[50 18]\n",
      " [ 9 55]]\n"
     ]
    }
   ],
   "source": [
    "print(confusion_matrix(y_test,predictions))"
   ]
  },
  {
   "cell_type": "code",
   "execution_count": 36,
   "metadata": {},
   "outputs": [
    {
     "data": {
      "text/plain": [
       "0.8"
      ]
     },
     "execution_count": 36,
     "metadata": {},
     "output_type": "execute_result"
    }
   ],
   "source": [
    "round((55+50)/(50+55+18+9),2)"
   ]
  },
  {
   "cell_type": "markdown",
   "metadata": {},
   "source": [
    "               predicted                        \n",
    "              0       1     \n",
    "            -----     -----    \n",
    "         0| 50 (TN) | 18 (FP)  \n",
    "    actual  -----     ----- \n",
    "         1|  9 (FN) | 55 (TP)      \n",
    "   \n",
    "Accuracy is 0.8. Out of 132 samples only 27 (18+9) was mislabeled. Overall correct prediction."
   ]
  },
  {
   "cell_type": "markdown",
   "metadata": {},
   "source": [
    "## Training the Random Forest model\n",
    "Compare a decision tree model to a random forest model"
   ]
  },
  {
   "cell_type": "code",
   "execution_count": 29,
   "metadata": {},
   "outputs": [],
   "source": [
    "rfc= RandomForestClassifier(n_estimators=600)"
   ]
  },
  {
   "cell_type": "markdown",
   "metadata": {},
   "source": [
    "Can play around with n_estimators. The larger the number, the longer the time it takes. Lower n_estimators has room to improve. It will reach to a point where increasing the number won't improve the accuracy."
   ]
  },
  {
   "cell_type": "code",
   "execution_count": 30,
   "metadata": {},
   "outputs": [
    {
     "data": {
      "text/plain": [
       "RandomForestClassifier(bootstrap=True, class_weight=None, criterion='gini',\n",
       "            max_depth=None, max_features='auto', max_leaf_nodes=None,\n",
       "            min_impurity_decrease=0.0, min_impurity_split=None,\n",
       "            min_samples_leaf=1, min_samples_split=2,\n",
       "            min_weight_fraction_leaf=0.0, n_estimators=600, n_jobs=None,\n",
       "            oob_score=False, random_state=None, verbose=0,\n",
       "            warm_start=False)"
      ]
     },
     "execution_count": 30,
     "metadata": {},
     "output_type": "execute_result"
    }
   ],
   "source": [
    "rfc.fit(X_train,y_train)"
   ]
  },
  {
   "cell_type": "markdown",
   "metadata": {},
   "source": [
    "## Predictions and Evaluation\n",
    "\n",
    "Predict off the y_test values and evaluate the model.\n",
    "\n",
    "**Predict the class of Bankrupt? for the X_test data.**"
   ]
  },
  {
   "cell_type": "code",
   "execution_count": 31,
   "metadata": {},
   "outputs": [],
   "source": [
    "rfc_pred=rfc.predict(X_test)"
   ]
  },
  {
   "cell_type": "code",
   "execution_count": 32,
   "metadata": {},
   "outputs": [
    {
     "name": "stdout",
     "output_type": "stream",
     "text": [
      "              precision    recall  f1-score   support\n",
      "\n",
      "           0       0.92      0.71      0.80        68\n",
      "           1       0.75      0.94      0.83        64\n",
      "\n",
      "   micro avg       0.82      0.82      0.82       132\n",
      "   macro avg       0.84      0.82      0.82       132\n",
      "weighted avg       0.84      0.82      0.82       132\n",
      "\n"
     ]
    }
   ],
   "source": [
    "print(classification_report(y_test,rfc_pred))"
   ]
  },
  {
   "cell_type": "markdown",
   "metadata": {},
   "source": [
    "**Precision, recall and f1-score for certain classes and the average have improved.**\n",
    "**The recall of 0 decreases from 0.74 to 0.71. This is the only number decreases.**"
   ]
  },
  {
   "cell_type": "code",
   "execution_count": 33,
   "metadata": {},
   "outputs": [
    {
     "name": "stdout",
     "output_type": "stream",
     "text": [
      "[[48 20]\n",
      " [ 4 60]]\n"
     ]
    }
   ],
   "source": [
    "print(confusion_matrix(y_test,rfc_pred))"
   ]
  },
  {
   "cell_type": "code",
   "execution_count": 37,
   "metadata": {},
   "outputs": [
    {
     "data": {
      "text/plain": [
       "0.82"
      ]
     },
     "execution_count": 37,
     "metadata": {},
     "output_type": "execute_result"
    }
   ],
   "source": [
    "round((48+60)/(48+20+4+60),2)"
   ]
  },
  {
   "cell_type": "markdown",
   "metadata": {},
   "source": [
    "Both models have good results. Compared to decision tree model, in this analysis random forest improved the performance in general. Accuracy increases from 0.8 to 0.82. The mislabled number also reduced to 24 (from 27). Both models have more false positive cases, predicting it will go bankupt but actually not, than false negative. Note that false positive case increases from 18 to 20. For even better performance, it's worth considering using more samples where label (Bankrupt?) is 0."
   ]
  },
  {
   "cell_type": "markdown",
   "metadata": {},
   "source": [
    "# Conclusions"
   ]
  },
  {
   "cell_type": "markdown",
   "metadata": {},
   "source": [
    "* With key financial ratios (features) being selected, instead of using the original 95 columns, we can build pretty good model to predict banktruptcy\n",
    "* Both decision tree and random forest predict accurately 80% of the time\n",
    "* Random forest outperforms decision tree\n",
    "* The data were for year 1999 to 2009. More recent data may lead to totally different results. If the data has industry or year information it will be interesting to explore changes by year and by industry\n",
    "* More feature engineering and further analysis can potentially improve the performance. \n",
    "  For example, alternative ways of \n",
    "  * Selection of features from the original data\n",
    "  * Number of rows sampled from \"Bankrupt?\"=0\n",
    "  * Methods of dealing with imbalanced label\n",
    "  * value of n_estimators, the parameter of random forest classifier\n",
    "  \n"
   ]
  },
  {
   "cell_type": "code",
   "execution_count": null,
   "metadata": {},
   "outputs": [],
   "source": []
  }
 ],
 "metadata": {
  "kernelspec": {
   "display_name": "Python 3",
   "language": "python",
   "name": "python3"
  },
  "language_info": {
   "codemirror_mode": {
    "name": "ipython",
    "version": 3
   },
   "file_extension": ".py",
   "mimetype": "text/x-python",
   "name": "python",
   "nbconvert_exporter": "python",
   "pygments_lexer": "ipython3",
   "version": "3.7.1"
  }
 },
 "nbformat": 4,
 "nbformat_minor": 2
}
